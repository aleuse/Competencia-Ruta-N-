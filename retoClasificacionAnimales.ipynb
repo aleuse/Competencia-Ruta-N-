{
 "cells": [
  {
   "cell_type": "markdown",
   "metadata": {},
   "source": [
    "# Reto de Clasificación de Imágenes de Animales | Ruta N"
   ]
  },
  {
   "cell_type": "markdown",
   "metadata": {},
   "source": [
    "## Contexto del reto a resolver"
   ]
  },
  {
   "cell_type": "markdown",
   "metadata": {},
   "source": [
    "## Creación del ambiente virtual e instalación de dependencias"
   ]
  },
  {
   "cell_type": "markdown",
   "metadata": {},
   "source": [
    "Lo primero es tener instalado Anaconda o Miniconda. Luego de eso abrir el terminal y crear un entorno virtual con la siguiente línea."
   ]
  },
  {
   "cell_type": "code",
   "execution_count": null,
   "metadata": {},
   "outputs": [],
   "source": [
    "%conda create -n RutaN python=3.9"
   ]
  },
  {
   "cell_type": "markdown",
   "metadata": {},
   "source": [
    "Lo siguiente es activar el entorno virtual creado y luego instalar unas dependencias de NVidia para poder utilizar la GPU en el entrenamiento de los modelos."
   ]
  },
  {
   "cell_type": "code",
   "execution_count": null,
   "metadata": {},
   "outputs": [],
   "source": [
    "%conda activate RutaN\n",
    "%conda install -c conda-forge cudatoolkit=11.2 cudnn=8.1.0"
   ]
  },
  {
   "cell_type": "markdown",
   "metadata": {},
   "source": [
    "A continuación se instalan todas las dependencias necesarias."
   ]
  },
  {
   "cell_type": "code",
   "execution_count": null,
   "metadata": {},
   "outputs": [],
   "source": [
    "%pip install tensorflow==2.10"
   ]
  },
  {
   "cell_type": "markdown",
   "metadata": {},
   "source": [
    "Por último, se exporta a un archivo de texto las dependencias utilizadas para facilitar la instalación en el futuro."
   ]
  },
  {
   "cell_type": "code",
   "execution_count": null,
   "metadata": {},
   "outputs": [],
   "source": [
    "%pip freeze > requirements.txt"
   ]
  },
  {
   "cell_type": "markdown",
   "metadata": {},
   "source": [
    "## Trabajando con el dataset"
   ]
  },
  {
   "cell_type": "markdown",
   "metadata": {},
   "source": [
    "Lo que haremos será crear una función para distribuir aleatoriamente las imágenes de las 5 clases en 3 carpetas: train, test y validation. Para la carpeta de train destinaremos el 70% de las imágenes; para validation el 10% y para test el 20% restante."
   ]
  },
  {
   "cell_type": "code",
   "execution_count": 1,
   "metadata": {},
   "outputs": [],
   "source": [
    "import os\n",
    "import random\n",
    "import shutil\n",
    "\n",
    "def distribuir_imagenes(carpeta_imagenes, carpetas_destino, proporciones, semilla = None):\n",
    "    \"\"\"\n",
    "    Distribuye copias aleatorias de imágenes desde una carpeta de origen a varias carpetas de destino\n",
    "    según las proporciones especificadas.\n",
    "\n",
    "    Args:\n",
    "        carpeta_imagenes (str): Ruta de la carpeta que contiene las imágenes.\n",
    "        carpetas_destino (list of str): Lista de rutas de las carpetas de destino.\n",
    "        proporciones (list of int): Lista de proporciones para cada carpeta de destino en porcentaje.\n",
    "        semilla (int): Semilla para el generador de números aleatorios (opcional).\n",
    "    \"\"\"\n",
    "    if sum(proporciones) != 100:\n",
    "        raise ValueError(\"Las proporciones deben sumar 100.\")\n",
    "\n",
    "    if semilla is not None:\n",
    "        random.seed(semilla)\n",
    "\n",
    "    archivos = os.listdir(carpeta_imagenes)\n",
    "    total_archivos = len(archivos)\n",
    "\n",
    "    for i, carpeta_destino in enumerate(carpetas_destino):\n",
    "        cantidad_archivos = total_archivos * proporciones[i] // 100\n",
    "\n",
    "        # Crear la carpeta de destino si no existe\n",
    "        os.makedirs(carpeta_destino, exist_ok=True)\n",
    "\n",
    "        for _ in range(cantidad_archivos):\n",
    "            archivo = random.choice(archivos)\n",
    "            origen = os.path.join(carpeta_imagenes, archivo)\n",
    "            destino = os.path.join(carpeta_destino, archivo)\n",
    "            shutil.copy(origen, destino)\n",
    "\n",
    "    print(\"Distribución de copias de imágenes completada.\")"
   ]
  },
  {
   "cell_type": "markdown",
   "metadata": {},
   "source": [
    "Comenzamos con las imágenes de los pájaros."
   ]
  },
  {
   "cell_type": "code",
   "execution_count": 5,
   "metadata": {},
   "outputs": [
    {
     "name": "stdout",
     "output_type": "stream",
     "text": [
      "Distribución de copias de imágenes completada.\n"
     ]
    }
   ],
   "source": [
    "\n",
    "carpeta_imagenes = r\"raw_dataset\\birds\"\n",
    "carpetas_destino = [r\"dataset\\train\\birds\", r\"dataset\\test\\birds\", r\"dataset\\validation\\birds\"]\n",
    "proporciones = [70, 20, 10]\n",
    "semilla = 42\n",
    "distribuir_imagenes(carpeta_imagenes, carpetas_destino, proporciones, semilla = semilla)"
   ]
  },
  {
   "cell_type": "markdown",
   "metadata": {},
   "source": [
    "Continuamos con los gatos."
   ]
  },
  {
   "cell_type": "code",
   "execution_count": 6,
   "metadata": {},
   "outputs": [
    {
     "name": "stdout",
     "output_type": "stream",
     "text": [
      "Distribución de copias de imágenes completada.\n"
     ]
    }
   ],
   "source": [
    "carpeta_imagenes = r\"raw_dataset\\cat\"\n",
    "carpetas_destino = [r\"dataset\\train\\cat\", r\"dataset\\test\\cat\", r\"dataset\\validation\\cat\"]\n",
    "proporciones = [70, 20, 10]\n",
    "semilla = 42\n",
    "distribuir_imagenes(carpeta_imagenes, carpetas_destino, proporciones, semilla = semilla)"
   ]
  },
  {
   "cell_type": "markdown",
   "metadata": {},
   "source": [
    "Los siguientes son los perros."
   ]
  },
  {
   "cell_type": "code",
   "execution_count": 7,
   "metadata": {},
   "outputs": [
    {
     "name": "stdout",
     "output_type": "stream",
     "text": [
      "Distribución de copias de imágenes completada.\n"
     ]
    }
   ],
   "source": [
    "carpeta_imagenes = r\"raw_dataset\\dog\"\n",
    "carpetas_destino = [r\"dataset\\train\\dog\", r\"dataset\\test\\dog\", r\"dataset\\validation\\dog\"]\n",
    "proporciones = [70, 20, 10]\n",
    "semilla = 42\n",
    "distribuir_imagenes(carpeta_imagenes, carpetas_destino, proporciones, semilla = semilla)"
   ]
  },
  {
   "cell_type": "markdown",
   "metadata": {},
   "source": [
    "Ahora los peces."
   ]
  },
  {
   "cell_type": "code",
   "execution_count": 8,
   "metadata": {},
   "outputs": [
    {
     "name": "stdout",
     "output_type": "stream",
     "text": [
      "Distribución de copias de imágenes completada.\n"
     ]
    }
   ],
   "source": [
    "carpeta_imagenes = r\"raw_dataset\\fish\"\n",
    "carpetas_destino = [r\"dataset\\train\\fish\", r\"dataset\\test\\fish\", r\"dataset\\validation\\fish\"]\n",
    "proporciones = [70, 20, 10]\n",
    "semilla = 42\n",
    "distribuir_imagenes(carpeta_imagenes, carpetas_destino, proporciones, semilla = semilla)"
   ]
  },
  {
   "cell_type": "markdown",
   "metadata": {},
   "source": [
    "Y por último los salvajes."
   ]
  },
  {
   "cell_type": "code",
   "execution_count": 9,
   "metadata": {},
   "outputs": [
    {
     "name": "stdout",
     "output_type": "stream",
     "text": [
      "Distribución de copias de imágenes completada.\n"
     ]
    }
   ],
   "source": [
    "carpeta_imagenes = r\"raw_dataset\\wild\"\n",
    "carpetas_destino = [r\"dataset\\train\\wild\", r\"dataset\\test\\wild\", r\"dataset\\validation\\wild\"]\n",
    "proporciones = [70, 20, 10]\n",
    "semilla = 42\n",
    "distribuir_imagenes(carpeta_imagenes, carpetas_destino, proporciones, semilla = semilla)"
   ]
  },
  {
   "cell_type": "code",
   "execution_count": null,
   "metadata": {},
   "outputs": [],
   "source": []
  }
 ],
 "metadata": {
  "kernelspec": {
   "display_name": "RutaN",
   "language": "python",
   "name": "python3"
  },
  "language_info": {
   "codemirror_mode": {
    "name": "ipython",
    "version": 3
   },
   "file_extension": ".py",
   "mimetype": "text/x-python",
   "name": "python",
   "nbconvert_exporter": "python",
   "pygments_lexer": "ipython3",
   "version": "3.9.17"
  },
  "orig_nbformat": 4
 },
 "nbformat": 4,
 "nbformat_minor": 2
}
