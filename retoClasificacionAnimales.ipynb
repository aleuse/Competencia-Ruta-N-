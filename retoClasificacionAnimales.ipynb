{
 "cells": [
  {
   "cell_type": "markdown",
   "metadata": {},
   "source": [
    "# Reto de Clasificación de Imágenes de Animales | Ruta N"
   ]
  },
  {
   "cell_type": "markdown",
   "metadata": {},
   "source": [
    "## Contexto del reto a resolver"
   ]
  },
  {
   "cell_type": "markdown",
   "metadata": {},
   "source": [
    "## Creación del ambiente virtual e instalación de dependencias"
   ]
  },
  {
   "cell_type": "markdown",
   "metadata": {},
   "source": [
    "Lo primero es tener instalado Anaconda o Miniconda. Luego de eso abrir el terminal y crear un entorno virtual con la siguiente línea."
   ]
  },
  {
   "cell_type": "code",
   "execution_count": null,
   "metadata": {},
   "outputs": [],
   "source": [
    "%conda create -n RutaN python=3.9"
   ]
  },
  {
   "cell_type": "markdown",
   "metadata": {},
   "source": [
    "Lo siguiente es activar el entorno virtual creado y luego instalar unas dependencias de NVidia para poder utilizar la GPU en el entrenamiento de los modelos."
   ]
  },
  {
   "cell_type": "code",
   "execution_count": null,
   "metadata": {},
   "outputs": [],
   "source": [
    "%conda activate RutaN\n",
    "%conda install -c conda-forge cudatoolkit=11.2 cudnn=8.1.0"
   ]
  },
  {
   "cell_type": "markdown",
   "metadata": {},
   "source": [
    "A continuación se instalan todas las dependencias necesarias."
   ]
  },
  {
   "cell_type": "code",
   "execution_count": 8,
   "metadata": {},
   "outputs": [
    {
     "name": "stdout",
     "output_type": "stream",
     "text": [
      "Requirement already satisfied: tensorflow==2.10 in d:\\anaconda3\\envs\\rutan\\lib\\site-packages (2.10.0)\n",
      "Requirement already satisfied: matplotlib in d:\\anaconda3\\envs\\rutan\\lib\\site-packages (3.7.2)\n",
      "Requirement already satisfied: pillow in d:\\anaconda3\\envs\\rutan\\lib\\site-packages (10.0.0)\n",
      "Collecting scipy\n",
      "  Obtaining dependency information for scipy from https://files.pythonhosted.org/packages/e9/20/2d0561ab54d857365926c5b53538369a7b8d6ccbffaca509305b074028cd/scipy-1.11.2-cp39-cp39-win_amd64.whl.metadata\n",
      "  Downloading scipy-1.11.2-cp39-cp39-win_amd64.whl.metadata (59 kB)\n",
      "     ---------------------------------------- 0.0/59.1 kB ? eta -:--:--\n",
      "     ------------- ------------------------ 20.5/59.1 kB 640.0 kB/s eta 0:00:01\n",
      "     -------------------------------------- 59.1/59.1 kB 626.5 kB/s eta 0:00:00\n",
      "Requirement already satisfied: absl-py>=1.0.0 in d:\\anaconda3\\envs\\rutan\\lib\\site-packages (from tensorflow==2.10) (1.4.0)\n",
      "Requirement already satisfied: astunparse>=1.6.0 in d:\\anaconda3\\envs\\rutan\\lib\\site-packages (from tensorflow==2.10) (1.6.3)\n",
      "Requirement already satisfied: flatbuffers>=2.0 in d:\\anaconda3\\envs\\rutan\\lib\\site-packages (from tensorflow==2.10) (23.5.26)\n",
      "Requirement already satisfied: gast<=0.4.0,>=0.2.1 in d:\\anaconda3\\envs\\rutan\\lib\\site-packages (from tensorflow==2.10) (0.4.0)\n",
      "Requirement already satisfied: google-pasta>=0.1.1 in d:\\anaconda3\\envs\\rutan\\lib\\site-packages (from tensorflow==2.10) (0.2.0)\n",
      "Requirement already satisfied: h5py>=2.9.0 in d:\\anaconda3\\envs\\rutan\\lib\\site-packages (from tensorflow==2.10) (3.9.0)\n",
      "Requirement already satisfied: keras-preprocessing>=1.1.1 in d:\\anaconda3\\envs\\rutan\\lib\\site-packages (from tensorflow==2.10) (1.1.2)\n",
      "Requirement already satisfied: libclang>=13.0.0 in d:\\anaconda3\\envs\\rutan\\lib\\site-packages (from tensorflow==2.10) (16.0.6)\n",
      "Requirement already satisfied: numpy>=1.20 in d:\\anaconda3\\envs\\rutan\\lib\\site-packages (from tensorflow==2.10) (1.25.2)\n",
      "Requirement already satisfied: opt-einsum>=2.3.2 in d:\\anaconda3\\envs\\rutan\\lib\\site-packages (from tensorflow==2.10) (3.3.0)\n",
      "Requirement already satisfied: packaging in d:\\anaconda3\\envs\\rutan\\lib\\site-packages (from tensorflow==2.10) (23.1)\n",
      "Requirement already satisfied: protobuf<3.20,>=3.9.2 in d:\\anaconda3\\envs\\rutan\\lib\\site-packages (from tensorflow==2.10) (3.19.6)\n",
      "Requirement already satisfied: setuptools in d:\\anaconda3\\envs\\rutan\\lib\\site-packages (from tensorflow==2.10) (68.0.0)\n",
      "Requirement already satisfied: six>=1.12.0 in d:\\anaconda3\\envs\\rutan\\lib\\site-packages (from tensorflow==2.10) (1.16.0)\n",
      "Requirement already satisfied: termcolor>=1.1.0 in d:\\anaconda3\\envs\\rutan\\lib\\site-packages (from tensorflow==2.10) (2.3.0)\n",
      "Requirement already satisfied: typing-extensions>=3.6.6 in d:\\anaconda3\\envs\\rutan\\lib\\site-packages (from tensorflow==2.10) (4.7.1)\n",
      "Requirement already satisfied: wrapt>=1.11.0 in d:\\anaconda3\\envs\\rutan\\lib\\site-packages (from tensorflow==2.10) (1.15.0)\n",
      "Requirement already satisfied: tensorflow-io-gcs-filesystem>=0.23.1 in d:\\anaconda3\\envs\\rutan\\lib\\site-packages (from tensorflow==2.10) (0.31.0)\n",
      "Requirement already satisfied: grpcio<2.0,>=1.24.3 in d:\\anaconda3\\envs\\rutan\\lib\\site-packages (from tensorflow==2.10) (1.57.0)\n",
      "Requirement already satisfied: tensorboard<2.11,>=2.10 in d:\\anaconda3\\envs\\rutan\\lib\\site-packages (from tensorflow==2.10) (2.10.1)\n",
      "Requirement already satisfied: tensorflow-estimator<2.11,>=2.10.0 in d:\\anaconda3\\envs\\rutan\\lib\\site-packages (from tensorflow==2.10) (2.10.0)\n",
      "Requirement already satisfied: keras<2.11,>=2.10.0 in d:\\anaconda3\\envs\\rutan\\lib\\site-packages (from tensorflow==2.10) (2.10.0)\n",
      "Requirement already satisfied: contourpy>=1.0.1 in d:\\anaconda3\\envs\\rutan\\lib\\site-packages (from matplotlib) (1.1.0)\n",
      "Requirement already satisfied: cycler>=0.10 in d:\\anaconda3\\envs\\rutan\\lib\\site-packages (from matplotlib) (0.11.0)\n",
      "Requirement already satisfied: fonttools>=4.22.0 in d:\\anaconda3\\envs\\rutan\\lib\\site-packages (from matplotlib) (4.42.1)\n",
      "Requirement already satisfied: kiwisolver>=1.0.1 in d:\\anaconda3\\envs\\rutan\\lib\\site-packages (from matplotlib) (1.4.5)\n",
      "Requirement already satisfied: pyparsing<3.1,>=2.3.1 in d:\\anaconda3\\envs\\rutan\\lib\\site-packages (from matplotlib) (3.0.9)\n",
      "Requirement already satisfied: python-dateutil>=2.7 in d:\\anaconda3\\envs\\rutan\\lib\\site-packages (from matplotlib) (2.8.2)\n",
      "Requirement already satisfied: importlib-resources>=3.2.0 in d:\\anaconda3\\envs\\rutan\\lib\\site-packages (from matplotlib) (6.0.1)\n",
      "Requirement already satisfied: wheel<1.0,>=0.23.0 in d:\\anaconda3\\envs\\rutan\\lib\\site-packages (from astunparse>=1.6.0->tensorflow==2.10) (0.38.4)\n",
      "Requirement already satisfied: zipp>=3.1.0 in d:\\anaconda3\\envs\\rutan\\lib\\site-packages (from importlib-resources>=3.2.0->matplotlib) (3.16.2)\n",
      "Requirement already satisfied: google-auth<3,>=1.6.3 in d:\\anaconda3\\envs\\rutan\\lib\\site-packages (from tensorboard<2.11,>=2.10->tensorflow==2.10) (2.22.0)\n",
      "Requirement already satisfied: google-auth-oauthlib<0.5,>=0.4.1 in d:\\anaconda3\\envs\\rutan\\lib\\site-packages (from tensorboard<2.11,>=2.10->tensorflow==2.10) (0.4.6)\n",
      "Requirement already satisfied: markdown>=2.6.8 in d:\\anaconda3\\envs\\rutan\\lib\\site-packages (from tensorboard<2.11,>=2.10->tensorflow==2.10) (3.4.4)\n",
      "Requirement already satisfied: requests<3,>=2.21.0 in d:\\anaconda3\\envs\\rutan\\lib\\site-packages (from tensorboard<2.11,>=2.10->tensorflow==2.10) (2.31.0)\n",
      "Requirement already satisfied: tensorboard-data-server<0.7.0,>=0.6.0 in d:\\anaconda3\\envs\\rutan\\lib\\site-packages (from tensorboard<2.11,>=2.10->tensorflow==2.10) (0.6.1)\n",
      "Requirement already satisfied: tensorboard-plugin-wit>=1.6.0 in d:\\anaconda3\\envs\\rutan\\lib\\site-packages (from tensorboard<2.11,>=2.10->tensorflow==2.10) (1.8.1)\n",
      "Requirement already satisfied: werkzeug>=1.0.1 in d:\\anaconda3\\envs\\rutan\\lib\\site-packages (from tensorboard<2.11,>=2.10->tensorflow==2.10) (2.3.7)\n",
      "Requirement already satisfied: cachetools<6.0,>=2.0.0 in d:\\anaconda3\\envs\\rutan\\lib\\site-packages (from google-auth<3,>=1.6.3->tensorboard<2.11,>=2.10->tensorflow==2.10) (5.3.1)\n",
      "Requirement already satisfied: pyasn1-modules>=0.2.1 in d:\\anaconda3\\envs\\rutan\\lib\\site-packages (from google-auth<3,>=1.6.3->tensorboard<2.11,>=2.10->tensorflow==2.10) (0.3.0)\n",
      "Requirement already satisfied: rsa<5,>=3.1.4 in d:\\anaconda3\\envs\\rutan\\lib\\site-packages (from google-auth<3,>=1.6.3->tensorboard<2.11,>=2.10->tensorflow==2.10) (4.9)\n",
      "Requirement already satisfied: urllib3<2.0 in d:\\anaconda3\\envs\\rutan\\lib\\site-packages (from google-auth<3,>=1.6.3->tensorboard<2.11,>=2.10->tensorflow==2.10) (1.26.16)\n",
      "Requirement already satisfied: requests-oauthlib>=0.7.0 in d:\\anaconda3\\envs\\rutan\\lib\\site-packages (from google-auth-oauthlib<0.5,>=0.4.1->tensorboard<2.11,>=2.10->tensorflow==2.10) (1.3.1)\n",
      "Requirement already satisfied: importlib-metadata>=4.4 in d:\\anaconda3\\envs\\rutan\\lib\\site-packages (from markdown>=2.6.8->tensorboard<2.11,>=2.10->tensorflow==2.10) (6.8.0)\n",
      "Requirement already satisfied: charset-normalizer<4,>=2 in d:\\anaconda3\\envs\\rutan\\lib\\site-packages (from requests<3,>=2.21.0->tensorboard<2.11,>=2.10->tensorflow==2.10) (3.2.0)\n",
      "Requirement already satisfied: idna<4,>=2.5 in d:\\anaconda3\\envs\\rutan\\lib\\site-packages (from requests<3,>=2.21.0->tensorboard<2.11,>=2.10->tensorflow==2.10) (3.4)\n",
      "Requirement already satisfied: certifi>=2017.4.17 in d:\\anaconda3\\envs\\rutan\\lib\\site-packages (from requests<3,>=2.21.0->tensorboard<2.11,>=2.10->tensorflow==2.10) (2023.7.22)\n",
      "Requirement already satisfied: MarkupSafe>=2.1.1 in d:\\anaconda3\\envs\\rutan\\lib\\site-packages (from werkzeug>=1.0.1->tensorboard<2.11,>=2.10->tensorflow==2.10) (2.1.3)\n",
      "Requirement already satisfied: pyasn1<0.6.0,>=0.4.6 in d:\\anaconda3\\envs\\rutan\\lib\\site-packages (from pyasn1-modules>=0.2.1->google-auth<3,>=1.6.3->tensorboard<2.11,>=2.10->tensorflow==2.10) (0.5.0)\n",
      "Requirement already satisfied: oauthlib>=3.0.0 in d:\\anaconda3\\envs\\rutan\\lib\\site-packages (from requests-oauthlib>=0.7.0->google-auth-oauthlib<0.5,>=0.4.1->tensorboard<2.11,>=2.10->tensorflow==2.10) (3.2.2)\n",
      "Downloading scipy-1.11.2-cp39-cp39-win_amd64.whl (44.1 MB)\n",
      "   ---------------------------------------- 0.0/44.1 MB ? eta -:--:--\n",
      "   ---------------------------------------- 0.1/44.1 MB 3.2 MB/s eta 0:00:14\n",
      "   ---------------------------------------- 0.2/44.1 MB 2.4 MB/s eta 0:00:19\n",
      "   ---------------------------------------- 0.3/44.1 MB 2.6 MB/s eta 0:00:17\n",
      "   ---------------------------------------- 0.5/44.1 MB 2.8 MB/s eta 0:00:16\n",
      "    --------------------------------------- 0.7/44.1 MB 2.9 MB/s eta 0:00:15\n",
      "    --------------------------------------- 0.8/44.1 MB 3.0 MB/s eta 0:00:15\n",
      "    --------------------------------------- 1.0/44.1 MB 3.1 MB/s eta 0:00:14\n",
      "   - -------------------------------------- 1.2/44.1 MB 3.3 MB/s eta 0:00:14\n",
      "   - -------------------------------------- 1.4/44.1 MB 3.3 MB/s eta 0:00:13\n",
      "   - -------------------------------------- 1.6/44.1 MB 3.5 MB/s eta 0:00:13\n",
      "   - -------------------------------------- 1.8/44.1 MB 3.6 MB/s eta 0:00:12\n",
      "   - -------------------------------------- 2.1/44.1 MB 3.8 MB/s eta 0:00:12\n",
      "   -- ------------------------------------- 2.3/44.1 MB 3.9 MB/s eta 0:00:11\n",
      "   -- ------------------------------------- 2.6/44.1 MB 4.1 MB/s eta 0:00:11\n",
      "   -- ------------------------------------- 3.0/44.1 MB 4.3 MB/s eta 0:00:10\n",
      "   -- ------------------------------------- 3.3/44.1 MB 4.5 MB/s eta 0:00:10\n",
      "   --- ------------------------------------ 3.6/44.1 MB 4.6 MB/s eta 0:00:09\n",
      "   --- ------------------------------------ 4.0/44.1 MB 4.8 MB/s eta 0:00:09\n",
      "   --- ------------------------------------ 4.4/44.1 MB 5.0 MB/s eta 0:00:09\n",
      "   ---- ----------------------------------- 4.8/44.1 MB 5.1 MB/s eta 0:00:08\n",
      "   ---- ----------------------------------- 5.1/44.1 MB 5.2 MB/s eta 0:00:08\n",
      "   ---- ----------------------------------- 5.5/44.1 MB 5.4 MB/s eta 0:00:08\n",
      "   ----- ---------------------------------- 5.9/44.1 MB 5.6 MB/s eta 0:00:07\n",
      "   ----- ---------------------------------- 6.4/44.1 MB 5.8 MB/s eta 0:00:07\n",
      "   ------ --------------------------------- 6.9/44.1 MB 6.0 MB/s eta 0:00:07\n",
      "   ------ --------------------------------- 7.5/44.1 MB 6.2 MB/s eta 0:00:06\n",
      "   ------- -------------------------------- 8.0/44.1 MB 6.4 MB/s eta 0:00:06\n",
      "   ------- -------------------------------- 8.6/44.1 MB 6.6 MB/s eta 0:00:06\n",
      "   -------- ------------------------------- 9.1/44.1 MB 6.8 MB/s eta 0:00:06\n",
      "   -------- ------------------------------- 9.6/44.1 MB 6.9 MB/s eta 0:00:05\n",
      "   --------- ------------------------------ 10.2/44.1 MB 7.1 MB/s eta 0:00:05\n",
      "   --------- ------------------------------ 10.7/44.1 MB 7.9 MB/s eta 0:00:05\n",
      "   ---------- ----------------------------- 11.3/44.1 MB 8.5 MB/s eta 0:00:04\n",
      "   ---------- ----------------------------- 11.8/44.1 MB 9.2 MB/s eta 0:00:04\n",
      "   ----------- ---------------------------- 12.4/44.1 MB 9.6 MB/s eta 0:00:04\n",
      "   ----------- ---------------------------- 12.9/44.1 MB 10.1 MB/s eta 0:00:04\n",
      "   ------------ --------------------------- 13.5/44.1 MB 10.4 MB/s eta 0:00:03\n",
      "   ------------ --------------------------- 14.0/44.1 MB 10.7 MB/s eta 0:00:03\n",
      "   ------------- -------------------------- 14.6/44.1 MB 11.1 MB/s eta 0:00:03\n",
      "   ------------- -------------------------- 15.1/44.1 MB 11.3 MB/s eta 0:00:03\n",
      "   -------------- ------------------------- 15.7/44.1 MB 11.5 MB/s eta 0:00:03\n",
      "   -------------- ------------------------- 16.2/44.1 MB 11.7 MB/s eta 0:00:03\n",
      "   --------------- ------------------------ 16.8/44.1 MB 11.9 MB/s eta 0:00:03\n",
      "   --------------- ------------------------ 17.3/44.1 MB 11.9 MB/s eta 0:00:03\n",
      "   ---------------- ----------------------- 17.9/44.1 MB 11.9 MB/s eta 0:00:03\n",
      "   ---------------- ----------------------- 18.4/44.1 MB 11.9 MB/s eta 0:00:03\n",
      "   ----------------- ---------------------- 19.0/44.1 MB 11.9 MB/s eta 0:00:03\n",
      "   ----------------- ---------------------- 19.5/44.1 MB 11.9 MB/s eta 0:00:03\n",
      "   ------------------ --------------------- 20.1/44.1 MB 11.9 MB/s eta 0:00:03\n",
      "   ------------------ --------------------- 20.6/44.1 MB 11.9 MB/s eta 0:00:02\n",
      "   ------------------- -------------------- 21.1/44.1 MB 11.9 MB/s eta 0:00:02\n",
      "   ------------------- -------------------- 21.7/44.1 MB 11.9 MB/s eta 0:00:02\n",
      "   -------------------- ------------------- 22.3/44.1 MB 11.9 MB/s eta 0:00:02\n",
      "   -------------------- ------------------- 22.8/44.1 MB 11.9 MB/s eta 0:00:02\n",
      "   --------------------- ------------------ 23.3/44.1 MB 11.9 MB/s eta 0:00:02\n",
      "   --------------------- ------------------ 23.9/44.1 MB 11.9 MB/s eta 0:00:02\n",
      "   ---------------------- ----------------- 24.5/44.1 MB 11.9 MB/s eta 0:00:02\n",
      "   ---------------------- ----------------- 25.0/44.1 MB 11.9 MB/s eta 0:00:02\n",
      "   ----------------------- ---------------- 25.6/44.1 MB 11.9 MB/s eta 0:00:02\n",
      "   ----------------------- ---------------- 26.1/44.1 MB 11.9 MB/s eta 0:00:02\n",
      "   ------------------------ --------------- 26.7/44.1 MB 11.9 MB/s eta 0:00:02\n",
      "   ------------------------ --------------- 27.2/44.1 MB 11.9 MB/s eta 0:00:02\n",
      "   ------------------------- -------------- 27.8/44.1 MB 11.9 MB/s eta 0:00:02\n",
      "   ------------------------- -------------- 28.3/44.1 MB 11.9 MB/s eta 0:00:02\n",
      "   -------------------------- ------------- 28.9/44.1 MB 11.9 MB/s eta 0:00:02\n",
      "   -------------------------- ------------- 29.4/44.1 MB 11.7 MB/s eta 0:00:02\n",
      "   --------------------------- ------------ 30.0/44.1 MB 11.7 MB/s eta 0:00:02\n",
      "   --------------------------- ------------ 30.5/44.1 MB 11.7 MB/s eta 0:00:02\n",
      "   ---------------------------- ----------- 31.1/44.1 MB 11.7 MB/s eta 0:00:02\n",
      "   ---------------------------- ----------- 31.6/44.1 MB 11.7 MB/s eta 0:00:02\n",
      "   ----------------------------- ---------- 32.2/44.1 MB 11.7 MB/s eta 0:00:02\n",
      "   ----------------------------- ---------- 32.7/44.1 MB 11.7 MB/s eta 0:00:01\n",
      "   ------------------------------ --------- 33.3/44.1 MB 11.7 MB/s eta 0:00:01\n",
      "   ------------------------------ --------- 33.8/44.1 MB 11.7 MB/s eta 0:00:01\n",
      "   ------------------------------- -------- 34.4/44.1 MB 11.7 MB/s eta 0:00:01\n",
      "   ------------------------------- -------- 34.9/44.1 MB 11.7 MB/s eta 0:00:01\n",
      "   -------------------------------- ------- 35.5/44.1 MB 11.7 MB/s eta 0:00:01\n",
      "   -------------------------------- ------- 36.1/44.1 MB 11.7 MB/s eta 0:00:01\n",
      "   --------------------------------- ------ 36.6/44.1 MB 11.7 MB/s eta 0:00:01\n",
      "   --------------------------------- ------ 37.2/44.1 MB 11.7 MB/s eta 0:00:01\n",
      "   ---------------------------------- ----- 37.7/44.1 MB 11.9 MB/s eta 0:00:01\n",
      "   ---------------------------------- ----- 38.3/44.1 MB 11.9 MB/s eta 0:00:01\n",
      "   ----------------------------------- ---- 38.8/44.1 MB 11.9 MB/s eta 0:00:01\n",
      "   ----------------------------------- ---- 39.4/44.1 MB 11.9 MB/s eta 0:00:01\n",
      "   ------------------------------------ --- 39.9/44.1 MB 11.9 MB/s eta 0:00:01\n",
      "   ------------------------------------ --- 40.4/44.1 MB 11.9 MB/s eta 0:00:01\n",
      "   ------------------------------------- -- 41.0/44.1 MB 11.9 MB/s eta 0:00:01\n",
      "   ------------------------------------- -- 41.5/44.1 MB 11.9 MB/s eta 0:00:01\n",
      "   -------------------------------------- - 42.1/44.1 MB 11.9 MB/s eta 0:00:01\n",
      "   -------------------------------------- - 42.6/44.1 MB 11.9 MB/s eta 0:00:01\n",
      "   ---------------------------------------  43.2/44.1 MB 11.9 MB/s eta 0:00:01\n",
      "   ---------------------------------------  43.7/44.1 MB 11.9 MB/s eta 0:00:01\n",
      "   ---------------------------------------  44.1/44.1 MB 11.9 MB/s eta 0:00:01\n",
      "   ---------------------------------------- 44.1/44.1 MB 10.9 MB/s eta 0:00:00\n",
      "Installing collected packages: scipy\n",
      "Successfully installed scipy-1.11.2\n",
      "Note: you may need to restart the kernel to use updated packages.\n"
     ]
    }
   ],
   "source": [
    "%pip install tensorflow==2.10 numpy matplotlib pillow scipy"
   ]
  },
  {
   "cell_type": "markdown",
   "metadata": {},
   "source": [
    "Por último, se exporta a un archivo de texto las dependencias utilizadas para facilitar la instalación en el futuro."
   ]
  },
  {
   "cell_type": "code",
   "execution_count": null,
   "metadata": {},
   "outputs": [],
   "source": [
    "%pip freeze > requirements.txt"
   ]
  },
  {
   "cell_type": "markdown",
   "metadata": {},
   "source": [
    "## Importación de paquetes"
   ]
  },
  {
   "cell_type": "code",
   "execution_count": 1,
   "metadata": {},
   "outputs": [],
   "source": [
    "import datetime\n",
    "import numpy as np\n",
    "import matplotlib.pyplot as plt\n",
    "import tensorflow as tf\n",
    "from tensorflow.keras import optimizers, regularizers\n",
    "from tensorflow.keras.models import Sequential, load_model\n",
    "from tensorflow.keras.preprocessing.image import ImageDataGenerator, load_img, img_to_array\n",
    "from keras.applications.vgg16 import preprocess_input\n",
    "from tensorflow.keras.callbacks import EarlyStopping, ModelCheckpoint\n",
    "from tensorflow.keras.layers import Conv2D, MaxPooling2D, Dropout, Flatten, Dense, BatchNormalization\n",
    "from tensorflow.keras.preprocessing.image import ImageDataGenerator"
   ]
  },
  {
   "cell_type": "markdown",
   "metadata": {},
   "source": [
    "## Trabajando con el dataset"
   ]
  },
  {
   "cell_type": "markdown",
   "metadata": {},
   "source": [
    "Lo que haremos será crear una función para distribuir aleatoriamente las imágenes de las 5 clases en 3 carpetas: train, test y validation. Para la carpeta de train destinaremos el 70% de las imágenes; para validation el 10% y para test el 20% restante."
   ]
  },
  {
   "cell_type": "code",
   "execution_count": 9,
   "metadata": {},
   "outputs": [],
   "source": [
    "import os\n",
    "import random\n",
    "import shutil\n",
    "\n",
    "def distribuir_imagenes(carpeta_imagenes, carpetas_destino, proporciones, semilla = None):\n",
    "    \"\"\"\n",
    "    Distribuye copias aleatorias de imágenes desde una carpeta de origen a varias carpetas de destino\n",
    "    según las proporciones especificadas.\n",
    "\n",
    "    Args:\n",
    "        carpeta_imagenes (str): Ruta de la carpeta que contiene las imágenes.\n",
    "        carpetas_destino (list of str): Lista de rutas de las carpetas de destino.\n",
    "        proporciones (list of int): Lista de proporciones para cada carpeta de destino en porcentaje.\n",
    "        semilla (int): Semilla para el generador de números aleatorios (opcional).\n",
    "    \"\"\"\n",
    "    if sum(proporciones) != 100:\n",
    "        raise ValueError(\"Las proporciones deben sumar 100.\")\n",
    "\n",
    "    if semilla is not None:\n",
    "        random.seed(semilla)\n",
    "\n",
    "    archivos = os.listdir(carpeta_imagenes)\n",
    "    total_archivos = 5200\n",
    "\n",
    "    for i, carpeta_destino in enumerate(carpetas_destino):\n",
    "        cantidad_archivos = total_archivos * proporciones[i] // 100\n",
    "\n",
    "        # Crear la carpeta de destino si no existe\n",
    "        os.makedirs(carpeta_destino, exist_ok=True)\n",
    "\n",
    "        for _ in range(cantidad_archivos):\n",
    "            archivo = random.choice(archivos)\n",
    "            origen = os.path.join(carpeta_imagenes, archivo)\n",
    "            destino = os.path.join(carpeta_destino, archivo)\n",
    "            shutil.copy(origen, destino)\n",
    "\n",
    "    print(\"Distribución de copias de imágenes completada.\")"
   ]
  },
  {
   "cell_type": "markdown",
   "metadata": {},
   "source": [
    "Comenzamos con las imágenes de los pájaros."
   ]
  },
  {
   "cell_type": "code",
   "execution_count": 10,
   "metadata": {},
   "outputs": [
    {
     "name": "stdout",
     "output_type": "stream",
     "text": [
      "Distribución de copias de imágenes completada.\n"
     ]
    }
   ],
   "source": [
    "\n",
    "carpeta_imagenes = r\"raw_dataset\\birds\"\n",
    "carpetas_destino = [r\"dataset\\train\\birds\", r\"dataset\\test\\birds\", r\"dataset\\validation\\birds\"]\n",
    "proporciones = [70, 20, 10]\n",
    "semilla = 42\n",
    "distribuir_imagenes(carpeta_imagenes, carpetas_destino, proporciones, semilla = semilla)"
   ]
  },
  {
   "cell_type": "markdown",
   "metadata": {},
   "source": [
    "Continuamos con los gatos."
   ]
  },
  {
   "cell_type": "code",
   "execution_count": 11,
   "metadata": {},
   "outputs": [
    {
     "name": "stdout",
     "output_type": "stream",
     "text": [
      "Distribución de copias de imágenes completada.\n"
     ]
    }
   ],
   "source": [
    "carpeta_imagenes = r\"raw_dataset\\cat\"\n",
    "carpetas_destino = [r\"dataset\\train\\cat\", r\"dataset\\test\\cat\", r\"dataset\\validation\\cat\"]\n",
    "proporciones = [70, 20, 10]\n",
    "semilla = 42\n",
    "distribuir_imagenes(carpeta_imagenes, carpetas_destino, proporciones, semilla = semilla)"
   ]
  },
  {
   "cell_type": "markdown",
   "metadata": {},
   "source": [
    "Los siguientes son los perros."
   ]
  },
  {
   "cell_type": "code",
   "execution_count": 12,
   "metadata": {},
   "outputs": [
    {
     "name": "stdout",
     "output_type": "stream",
     "text": [
      "Distribución de copias de imágenes completada.\n"
     ]
    }
   ],
   "source": [
    "carpeta_imagenes = r\"raw_dataset\\dog\"\n",
    "carpetas_destino = [r\"dataset\\train\\dog\", r\"dataset\\test\\dog\", r\"dataset\\validation\\dog\"]\n",
    "proporciones = [70, 20, 10]\n",
    "semilla = 42\n",
    "distribuir_imagenes(carpeta_imagenes, carpetas_destino, proporciones, semilla = semilla)"
   ]
  },
  {
   "cell_type": "markdown",
   "metadata": {},
   "source": [
    "Ahora los peces."
   ]
  },
  {
   "cell_type": "code",
   "execution_count": 13,
   "metadata": {},
   "outputs": [
    {
     "name": "stdout",
     "output_type": "stream",
     "text": [
      "Distribución de copias de imágenes completada.\n"
     ]
    }
   ],
   "source": [
    "carpeta_imagenes = r\"raw_dataset\\fish\"\n",
    "carpetas_destino = [r\"dataset\\train\\fish\", r\"dataset\\test\\fish\", r\"dataset\\validation\\fish\"]\n",
    "proporciones = [70, 20, 10]\n",
    "semilla = 42\n",
    "distribuir_imagenes(carpeta_imagenes, carpetas_destino, proporciones, semilla = semilla)"
   ]
  },
  {
   "cell_type": "markdown",
   "metadata": {},
   "source": [
    "Y por último los salvajes."
   ]
  },
  {
   "cell_type": "code",
   "execution_count": 14,
   "metadata": {},
   "outputs": [
    {
     "name": "stdout",
     "output_type": "stream",
     "text": [
      "Distribución de copias de imágenes completada.\n"
     ]
    }
   ],
   "source": [
    "carpeta_imagenes = r\"raw_dataset\\wild\"\n",
    "carpetas_destino = [r\"dataset\\train\\wild\", r\"dataset\\test\\wild\", r\"dataset\\validation\\wild\"]\n",
    "proporciones = [70, 20, 10]\n",
    "semilla = 42\n",
    "distribuir_imagenes(carpeta_imagenes, carpetas_destino, proporciones, semilla = semilla)"
   ]
  },
  {
   "cell_type": "markdown",
   "metadata": {},
   "source": [
    "## Preprocesamiento de las imágenes"
   ]
  },
  {
   "cell_type": "markdown",
   "metadata": {},
   "source": [
    "### Data Augmentation"
   ]
  },
  {
   "cell_type": "code",
   "execution_count": 11,
   "metadata": {},
   "outputs": [],
   "source": [
    "# Creamos un generador de imágenes para Training\n",
    "trainImgGen = ImageDataGenerator(\n",
    "    # Escalar los valores de las imágenes para que vayan entre 0 y 1\n",
    "    rescale = 1. / 255,\n",
    "    # Rotación de 40°\n",
    "    rotation_range = 40,\n",
    "    # Movimiento horizontal\n",
    "    width_shift_range = 0.6,\n",
    "    # Movimiento vertical\n",
    "    height_shift_range = 0.35,\n",
    "    # Cortar\n",
    "    shear_range = 0.2,\n",
    "    # Zoom\n",
    "    zoom_range = 0.2,\n",
    "    # Rotación horizontal\n",
    "    horizontal_flip = True,\n",
    "    # Rotación vertical\n",
    "    vertical_flip = True,\n",
    "    # Rellenar los espacios vacíos de la imagen al momento de transformarla\n",
    "    fill_mode = \"nearest\",\n",
    "    # Cambiar el brillo\n",
    "    brightness_range = [0.4, 1.5]\n",
    ")\n",
    "\n",
    "# Creamos un generador de imágenes para Test y Validation simplemente escalando los valores para que vayan de 0 a 1\n",
    "testDataGen = ImageDataGenerator(rescale = 1. / 255)"
   ]
  },
  {
   "cell_type": "code",
   "execution_count": 12,
   "metadata": {},
   "outputs": [
    {
     "name": "stdout",
     "output_type": "stream",
     "text": [
      "Found 13863 images belonging to 5 classes.\n",
      "Found 2509 images belonging to 5 classes.\n",
      "Found 4754 images belonging to 5 classes.\n"
     ]
    }
   ],
   "source": [
    "# Generamos imágenes para training cargándolas de un directorio\n",
    "trainGenerator = trainImgGen.flow_from_directory(r\"dataset/train\",\n",
    "    # Tamaño de las imágenes\n",
    "    target_size = (128, 128),\n",
    "    # Paquetes de a 64 imágenes\n",
    "    batch_size = 64,\n",
    "    # Clasificación múltiples\n",
    "    class_mode = \"categorical\"\n",
    ")\n",
    "\n",
    "# Generamos imágenes para validation cargándolas de un directorio y solamente reescalándolas\n",
    "validationGenerator = testDataGen.flow_from_directory(r\"dataset/validation\",\n",
    "    # Tamaño de las imágenes\n",
    "    target_size = (128, 128),\n",
    "    # Paquetes de a 64 imágenes\n",
    "    batch_size = 64,\n",
    "    # Clasificación múltiples\n",
    "    class_mode = \"categorical\"\n",
    ")\n",
    "\n",
    "# Generamos imágenes para testing cargándolas de un directorio y solamente reescalándolas\n",
    "testGenerator = testDataGen.flow_from_directory(r\"dataset/test\",\n",
    "    # Tamaño de las imágenes\n",
    "    target_size = (128, 128),\n",
    "    # Paquetes de a 64 imágenes\n",
    "    batch_size = 64,\n",
    "    # Clasificación múltiples\n",
    "    class_mode = \"categorical\"\n",
    ")"
   ]
  },
  {
   "cell_type": "markdown",
   "metadata": {},
   "source": [
    "## Creación del Modelo"
   ]
  },
  {
   "cell_type": "markdown",
   "metadata": {},
   "source": [
    "### Callbacks"
   ]
  },
  {
   "cell_type": "code",
   "execution_count": 14,
   "metadata": {},
   "outputs": [],
   "source": [
    "checkpoint = ModelCheckpoint(\n",
    "    # Nombre del archivo. La extensión hdf5 es usada para guardar los pesos del modelo\n",
    "    filepath = f\"rutan_classification_{str(datetime.date.today())}.hdf5\",\n",
    "    verbose = 1,\n",
    "    # Métrica que queremos monitorear\n",
    "    monitor = \"val_accuracy\",\n",
    "    # Solo guardar los mejores pesos\n",
    "    save_best_only = True\n",
    ")"
   ]
  },
  {
   "cell_type": "markdown",
   "metadata": {},
   "source": [
    "### Definición de la arquitectura"
   ]
  },
  {
   "cell_type": "code",
   "execution_count": 15,
   "metadata": {},
   "outputs": [
    {
     "name": "stdout",
     "output_type": "stream",
     "text": [
      "Model: \"sequential_2\"\n",
      "_________________________________________________________________\n",
      " Layer (type)                Output Shape              Param #   \n",
      "=================================================================\n",
      " conv2d_8 (Conv2D)           (None, 128, 128, 32)      896       \n",
      "                                                                 \n",
      " batch_normalization_8 (Batc  (None, 128, 128, 32)     128       \n",
      " hNormalization)                                                 \n",
      "                                                                 \n",
      " max_pooling2d_8 (MaxPooling  (None, 64, 64, 32)       0         \n",
      " 2D)                                                             \n",
      "                                                                 \n",
      " conv2d_9 (Conv2D)           (None, 64, 64, 64)        18496     \n",
      "                                                                 \n",
      " batch_normalization_9 (Batc  (None, 64, 64, 64)       256       \n",
      " hNormalization)                                                 \n",
      "                                                                 \n",
      " max_pooling2d_9 (MaxPooling  (None, 32, 32, 64)       0         \n",
      " 2D)                                                             \n",
      "                                                                 \n",
      " dropout_8 (Dropout)         (None, 32, 32, 64)        0         \n",
      "                                                                 \n",
      " conv2d_10 (Conv2D)          (None, 32, 32, 128)       73856     \n",
      "                                                                 \n",
      " batch_normalization_10 (Bat  (None, 32, 32, 128)      512       \n",
      " chNormalization)                                                \n",
      "                                                                 \n",
      " max_pooling2d_10 (MaxPoolin  (None, 16, 16, 128)      0         \n",
      " g2D)                                                            \n",
      "                                                                 \n",
      " dropout_9 (Dropout)         (None, 16, 16, 128)       0         \n",
      "                                                                 \n",
      " conv2d_11 (Conv2D)          (None, 16, 16, 128)       147584    \n",
      "                                                                 \n",
      " batch_normalization_11 (Bat  (None, 16, 16, 128)      512       \n",
      " chNormalization)                                                \n",
      "                                                                 \n",
      " max_pooling2d_11 (MaxPoolin  (None, 8, 8, 128)        0         \n",
      " g2D)                                                            \n",
      "                                                                 \n",
      " dropout_10 (Dropout)        (None, 8, 8, 128)         0         \n",
      "                                                                 \n",
      " flatten_2 (Flatten)         (None, 8192)              0         \n",
      "                                                                 \n",
      " dropout_11 (Dropout)        (None, 8192)              0         \n",
      "                                                                 \n",
      " dense_4 (Dense)             (None, 512)               4194816   \n",
      "                                                                 \n",
      " dense_5 (Dense)             (None, 5)                 2565      \n",
      "                                                                 \n",
      "=================================================================\n",
      "Total params: 4,439,621\n",
      "Trainable params: 4,438,917\n",
      "Non-trainable params: 704\n",
      "_________________________________________________________________\n"
     ]
    }
   ],
   "source": [
    "# Creamos un modelo secuencial\n",
    "model = Sequential()\n",
    "\n",
    "\"\"\"\n",
    "Capa de entrada\n",
    "\"\"\"\n",
    "# Agregamos una capa de convolución\n",
    "model.add(Conv2D(\n",
    "        # 32 kernels\n",
    "        filters = 32, \n",
    "        # Kernels de 3x3\n",
    "        kernel_size = (3, 3),\n",
    "        # Agregamos un padding para que las imágenes después del kernel tengan el mismo tamaño que las de entrada\n",
    "        padding = \"same\",\n",
    "        # Función de activación ReLu\n",
    "        activation = \"relu\",\n",
    "        # Utilizamos regularización Ridge con peso de 1e-5\n",
    "        kernel_regularizer = regularizers.l2(1e-5),\n",
    "        # Datos de entrada de 128 pixeles con 3 canales\n",
    "        input_shape = (128, 128, 3)\n",
    "    )\n",
    ")\n",
    "# Apilamos una capa de Batch Normalization\n",
    "model.add(BatchNormalization())\n",
    "# Apilamos una capa de MaxPooling para eliminar ruido de tamaño 2x2\n",
    "model.add(MaxPooling2D(pool_size = (2, 2)))\n",
    "\n",
    "\"\"\"\n",
    "Capa de convolución 2\n",
    "\"\"\"\n",
    "# Agregamos una capa de convolución\n",
    "model.add(Conv2D(\n",
    "        # 64 kernels\n",
    "        filters = 64, \n",
    "        # Kernels de 3x3\n",
    "        kernel_size = (3, 3),\n",
    "        # Agregamos un padding para que las imágenes después del kernel tengan el mismo tamaño que las de entrada\n",
    "        padding = \"same\",\n",
    "        # Función de activación ReLu\n",
    "        activation = \"relu\",\n",
    "        # Utilizamos regularización Ridge con peso de 1e-5\n",
    "        kernel_regularizer = regularizers.l2(1e-5),\n",
    "    )\n",
    ")\n",
    "# Apilamos una capa de Batch Normalization\n",
    "model.add(BatchNormalization())\n",
    "# Apilamos una capa de MaxPooling para eliminar ruido de tamaño 2x2\n",
    "model.add(MaxPooling2D(pool_size = (2, 2)))\n",
    "# Agregamos una capa de Dropout para vigilar el Overfitting; la probabilidad de drop será de 0.2\n",
    "model.add(Dropout(0.2))\n",
    "\n",
    "\"\"\"\n",
    "Capa de convolución 3\n",
    "\"\"\"\n",
    "# Agregamos una capa de convolución\n",
    "model.add(Conv2D(\n",
    "        # 128 kernels\n",
    "        filters = 128, \n",
    "        # Kernels de 3x3\n",
    "        kernel_size = (3, 3),\n",
    "        # Agregamos un padding para que las imágenes después del kernel tengan el mismo tamaño que las de entrada\n",
    "        padding = \"same\",\n",
    "        # Función de activación ReLu\n",
    "        activation = \"relu\",\n",
    "        # Utilizamos regularización Ridge con peso de 1e-5\n",
    "        kernel_regularizer = regularizers.l2(1e-5),\n",
    "    )\n",
    ")\n",
    "# Apilamos una capa de Batch Normalization\n",
    "model.add(BatchNormalization())\n",
    "# Apilamos una capa de MaxPooling para eliminar ruido de tamaño 2x2\n",
    "model.add(MaxPooling2D(pool_size = (2, 2)))\n",
    "# Agregamos una capa de Dropout para vigilar el Overfitting; la probabilidad de drop será de 0.3\n",
    "model.add(Dropout(0.3))\n",
    "\n",
    "\"\"\"\n",
    "Capa de convolución 4\n",
    "\"\"\"\n",
    "# Agregamos una capa de convolución\n",
    "model.add(Conv2D(\n",
    "        # 128 kernels\n",
    "        filters = 128, \n",
    "        # Kernels de 3x3\n",
    "        kernel_size = (3, 3),\n",
    "        # Agregamos un padding para que las imágenes después del kernel tengan el mismo tamaño que las de entrada\n",
    "        padding = \"same\",\n",
    "        # Función de activación ReLu\n",
    "        activation = \"relu\",\n",
    "        # Utilizamos regularización Ridge con peso de 1e-5\n",
    "        kernel_regularizer = regularizers.l2(1e-5),\n",
    "    )\n",
    ")\n",
    "# Apilamos una capa de Batch Normalization\n",
    "model.add(BatchNormalization())\n",
    "# Apilamos una capa de MaxPooling para eliminar ruido de tamaño 2x2\n",
    "model.add(MaxPooling2D(pool_size = (2, 2)))\n",
    "# Agregamos una capa de Dropout para vigilar el Overfitting; la probabilidad de drop será de 0.4\n",
    "model.add(Dropout(0.4))\n",
    "\n",
    "\"\"\"\n",
    "Capa de salida\n",
    "\"\"\"\n",
    "# Agregamos una capa Flatten para aplanar los datos y que queden en una sola dimensión\n",
    "model.add(Flatten())\n",
    "# Agregamos una capa de Dropout para vigilar el Overfitting; la probabilidad de drop será de 0.5\n",
    "model.add(Dropout(0.5))\n",
    "# Agregamos una capa Densa con 512 neuronas y activación ReLu\n",
    "model.add(Dense(512, activation = \"relu\"))\n",
    "# Agregamos la capa encargada de la clasificación múltiple con activación Softmax\n",
    "model.add(Dense(5, activation = \"softmax\"))\n",
    "\n",
    "# Resumen del modelo\n",
    "model.summary()"
   ]
  },
  {
   "cell_type": "markdown",
   "metadata": {},
   "source": [
    "### Compilación del modelo"
   ]
  },
  {
   "cell_type": "code",
   "execution_count": 16,
   "metadata": {},
   "outputs": [],
   "source": [
    "model.compile(\n",
    "    # Función de pérdida Binary Cross Entropy\n",
    "    loss = \"categorical_crossentropy\",\n",
    "    # Como optimizador utilizamos Adam que combina las bondades de AdaGrad y RMSProp\n",
    "    optimizer = optimizers.Adam(),\n",
    "    # Como métrica utilizamos el Accuracy Score\n",
    "    metrics = \"accuracy\"\n",
    ")"
   ]
  },
  {
   "cell_type": "markdown",
   "metadata": {},
   "source": [
    "## Entrenamiento del modelo"
   ]
  },
  {
   "cell_type": "code",
   "execution_count": 20,
   "metadata": {},
   "outputs": [
    {
     "name": "stdout",
     "output_type": "stream",
     "text": [
      "Epoch 1/80\n",
      "\n",
      "Epoch 1: val_accuracy did not improve from 0.83371\n",
      "40/40 - 12s - loss: 0.6018 - accuracy: 0.7822 - val_loss: 1.1423 - val_accuracy: 0.6763 - 12s/epoch - 297ms/step\n",
      "Epoch 2/80\n",
      "\n",
      "Epoch 2: val_accuracy did not improve from 0.83371\n",
      "40/40 - 12s - loss: 0.6270 - accuracy: 0.7625 - val_loss: 0.8054 - val_accuracy: 0.7455 - 12s/epoch - 292ms/step\n",
      "Epoch 3/80\n",
      "\n",
      "Epoch 3: val_accuracy did not improve from 0.83371\n",
      "40/40 - 11s - loss: 0.5499 - accuracy: 0.7957 - val_loss: 0.4810 - val_accuracy: 0.8337 - 11s/epoch - 276ms/step\n",
      "Epoch 4/80\n",
      "\n",
      "Epoch 4: val_accuracy did not improve from 0.83371\n",
      "40/40 - 11s - loss: 0.5693 - accuracy: 0.7812 - val_loss: 0.4882 - val_accuracy: 0.8002 - 11s/epoch - 273ms/step\n",
      "Epoch 5/80\n",
      "\n",
      "Epoch 5: val_accuracy did not improve from 0.83371\n",
      "40/40 - 11s - loss: 0.5519 - accuracy: 0.7984 - val_loss: 1.0917 - val_accuracy: 0.6730 - 11s/epoch - 272ms/step\n",
      "Epoch 6/80\n",
      "\n",
      "Epoch 6: val_accuracy did not improve from 0.83371\n",
      "40/40 - 11s - loss: 0.5818 - accuracy: 0.7949 - val_loss: 0.5808 - val_accuracy: 0.7812 - 11s/epoch - 274ms/step\n",
      "Epoch 7/80\n",
      "\n",
      "Epoch 7: val_accuracy did not improve from 0.83371\n",
      "40/40 - 11s - loss: 0.5614 - accuracy: 0.7980 - val_loss: 0.5285 - val_accuracy: 0.8270 - 11s/epoch - 271ms/step\n",
      "Epoch 8/80\n",
      "\n",
      "Epoch 8: val_accuracy did not improve from 0.83371\n",
      "40/40 - 11s - loss: 0.5689 - accuracy: 0.7879 - val_loss: 0.9031 - val_accuracy: 0.7210 - 11s/epoch - 275ms/step\n",
      "Epoch 9/80\n",
      "\n",
      "Epoch 9: val_accuracy did not improve from 0.83371\n",
      "40/40 - 11s - loss: 0.5442 - accuracy: 0.7832 - val_loss: 0.7433 - val_accuracy: 0.7277 - 11s/epoch - 273ms/step\n",
      "Epoch 10/80\n",
      "\n",
      "Epoch 10: val_accuracy did not improve from 0.83371\n",
      "40/40 - 11s - loss: 0.5448 - accuracy: 0.8043 - val_loss: 0.5986 - val_accuracy: 0.7779 - 11s/epoch - 277ms/step\n",
      "Epoch 11/80\n",
      "\n",
      "Epoch 11: val_accuracy did not improve from 0.83371\n",
      "40/40 - 11s - loss: 0.5310 - accuracy: 0.7988 - val_loss: 1.1010 - val_accuracy: 0.6384 - 11s/epoch - 270ms/step\n",
      "Epoch 12/80\n",
      "\n",
      "Epoch 12: val_accuracy did not improve from 0.83371\n",
      "40/40 - 11s - loss: 0.5653 - accuracy: 0.7886 - val_loss: 0.5137 - val_accuracy: 0.8103 - 11s/epoch - 270ms/step\n",
      "Epoch 13/80\n",
      "\n",
      "Epoch 13: val_accuracy did not improve from 0.83371\n",
      "40/40 - 11s - loss: 0.5502 - accuracy: 0.7945 - val_loss: 0.8776 - val_accuracy: 0.6964 - 11s/epoch - 275ms/step\n",
      "Epoch 14/80\n",
      "\n",
      "Epoch 14: val_accuracy did not improve from 0.83371\n",
      "40/40 - 11s - loss: 0.4908 - accuracy: 0.8264 - val_loss: 0.6627 - val_accuracy: 0.7612 - 11s/epoch - 268ms/step\n",
      "Epoch 15/80\n",
      "\n",
      "Epoch 15: val_accuracy did not improve from 0.83371\n",
      "40/40 - 11s - loss: 0.5523 - accuracy: 0.8031 - val_loss: 0.5216 - val_accuracy: 0.8047 - 11s/epoch - 269ms/step\n",
      "Epoch 16/80\n",
      "\n",
      "Epoch 16: val_accuracy improved from 0.83371 to 0.83482, saving model to rutan_classification_2023-09-05.hdf5\n",
      "40/40 - 11s - loss: 0.5117 - accuracy: 0.8152 - val_loss: 0.5234 - val_accuracy: 0.8348 - 11s/epoch - 287ms/step\n",
      "Epoch 17/80\n",
      "\n",
      "Epoch 17: val_accuracy improved from 0.83482 to 0.90290, saving model to rutan_classification_2023-09-05.hdf5\n",
      "40/40 - 11s - loss: 0.5086 - accuracy: 0.8141 - val_loss: 0.3041 - val_accuracy: 0.9029 - 11s/epoch - 275ms/step\n",
      "Epoch 18/80\n",
      "\n",
      "Epoch 18: val_accuracy did not improve from 0.90290\n",
      "40/40 - 11s - loss: 0.4914 - accuracy: 0.8160 - val_loss: 0.4584 - val_accuracy: 0.8382 - 11s/epoch - 269ms/step\n",
      "Epoch 19/80\n",
      "\n",
      "Epoch 19: val_accuracy did not improve from 0.90290\n",
      "40/40 - 11s - loss: 0.5100 - accuracy: 0.8195 - val_loss: 0.4272 - val_accuracy: 0.8527 - 11s/epoch - 272ms/step\n",
      "Epoch 20/80\n",
      "\n",
      "Epoch 20: val_accuracy did not improve from 0.90290\n",
      "40/40 - 11s - loss: 0.4843 - accuracy: 0.8242 - val_loss: 0.4957 - val_accuracy: 0.8248 - 11s/epoch - 273ms/step\n",
      "Epoch 21/80\n",
      "\n",
      "Epoch 21: val_accuracy did not improve from 0.90290\n",
      "40/40 - 11s - loss: 0.4693 - accuracy: 0.8293 - val_loss: 0.6995 - val_accuracy: 0.7790 - 11s/epoch - 276ms/step\n",
      "Epoch 22/80\n",
      "\n",
      "Epoch 22: val_accuracy did not improve from 0.90290\n",
      "40/40 - 11s - loss: 0.4804 - accuracy: 0.8301 - val_loss: 1.0481 - val_accuracy: 0.7199 - 11s/epoch - 275ms/step\n",
      "Epoch 23/80\n",
      "\n",
      "Epoch 23: val_accuracy did not improve from 0.90290\n",
      "40/40 - 11s - loss: 0.4486 - accuracy: 0.8422 - val_loss: 1.2160 - val_accuracy: 0.6786 - 11s/epoch - 270ms/step\n",
      "Epoch 24/80\n",
      "\n",
      "Epoch 24: val_accuracy did not improve from 0.90290\n",
      "40/40 - 11s - loss: 0.5152 - accuracy: 0.8074 - val_loss: 1.2751 - val_accuracy: 0.6038 - 11s/epoch - 273ms/step\n",
      "Epoch 25/80\n",
      "\n",
      "Epoch 25: val_accuracy did not improve from 0.90290\n",
      "40/40 - 11s - loss: 0.5311 - accuracy: 0.8020 - val_loss: 0.3225 - val_accuracy: 0.8929 - 11s/epoch - 272ms/step\n",
      "Epoch 26/80\n",
      "\n",
      "Epoch 26: val_accuracy did not improve from 0.90290\n",
      "40/40 - 11s - loss: 0.4881 - accuracy: 0.8242 - val_loss: 0.8802 - val_accuracy: 0.7433 - 11s/epoch - 274ms/step\n",
      "Epoch 27/80\n",
      "\n",
      "Epoch 27: val_accuracy did not improve from 0.90290\n",
      "40/40 - 11s - loss: 0.4555 - accuracy: 0.8359 - val_loss: 0.7317 - val_accuracy: 0.7411 - 11s/epoch - 276ms/step\n",
      "Epoch 28/80\n",
      "\n",
      "Epoch 28: val_accuracy did not improve from 0.90290\n",
      "40/40 - 11s - loss: 0.5164 - accuracy: 0.8105 - val_loss: 0.5113 - val_accuracy: 0.8292 - 11s/epoch - 271ms/step\n",
      "Epoch 29/80\n",
      "\n",
      "Epoch 29: val_accuracy did not improve from 0.90290\n",
      "40/40 - 11s - loss: 0.4716 - accuracy: 0.8363 - val_loss: 0.6521 - val_accuracy: 0.7812 - 11s/epoch - 271ms/step\n",
      "Epoch 30/80\n",
      "\n",
      "Epoch 30: val_accuracy did not improve from 0.90290\n",
      "40/40 - 11s - loss: 0.4747 - accuracy: 0.8379 - val_loss: 0.3415 - val_accuracy: 0.8862 - 11s/epoch - 267ms/step\n",
      "Epoch 31/80\n",
      "\n",
      "Epoch 31: val_accuracy did not improve from 0.90290\n",
      "40/40 - 11s - loss: 0.4877 - accuracy: 0.8180 - val_loss: 0.5453 - val_accuracy: 0.8136 - 11s/epoch - 272ms/step\n",
      "Epoch 32/80\n",
      "\n",
      "Epoch 32: val_accuracy did not improve from 0.90290\n",
      "40/40 - 11s - loss: 0.4545 - accuracy: 0.8320 - val_loss: 0.3753 - val_accuracy: 0.8594 - 11s/epoch - 274ms/step\n",
      "Epoch 33/80\n",
      "\n",
      "Epoch 33: val_accuracy did not improve from 0.90290\n",
      "40/40 - 11s - loss: 0.5213 - accuracy: 0.8117 - val_loss: 0.3573 - val_accuracy: 0.8795 - 11s/epoch - 277ms/step\n",
      "Epoch 34/80\n",
      "\n",
      "Epoch 34: val_accuracy did not improve from 0.90290\n",
      "40/40 - 11s - loss: 0.4584 - accuracy: 0.8340 - val_loss: 0.4937 - val_accuracy: 0.7879 - 11s/epoch - 272ms/step\n",
      "Epoch 35/80\n",
      "\n",
      "Epoch 35: val_accuracy did not improve from 0.90290\n",
      "40/40 - 11s - loss: 0.5108 - accuracy: 0.8150 - val_loss: 0.4233 - val_accuracy: 0.8560 - 11s/epoch - 267ms/step\n",
      "Epoch 36/80\n",
      "\n",
      "Epoch 36: val_accuracy did not improve from 0.90290\n",
      "40/40 - 11s - loss: 0.4927 - accuracy: 0.8258 - val_loss: 0.7557 - val_accuracy: 0.7511 - 11s/epoch - 272ms/step\n",
      "Epoch 37/80\n",
      "\n",
      "Epoch 37: val_accuracy did not improve from 0.90290\n",
      "40/40 - 11s - loss: 0.4530 - accuracy: 0.8371 - val_loss: 0.3221 - val_accuracy: 0.8806 - 11s/epoch - 271ms/step\n",
      "Epoch 38/80\n",
      "\n",
      "Epoch 38: val_accuracy did not improve from 0.90290\n",
      "40/40 - 11s - loss: 0.4554 - accuracy: 0.8363 - val_loss: 0.5426 - val_accuracy: 0.8114 - 11s/epoch - 275ms/step\n",
      "Epoch 39/80\n",
      "\n",
      "Epoch 39: val_accuracy did not improve from 0.90290\n",
      "40/40 - 11s - loss: 0.4392 - accuracy: 0.8504 - val_loss: 0.5302 - val_accuracy: 0.8058 - 11s/epoch - 279ms/step\n",
      "Epoch 40/80\n",
      "\n",
      "Epoch 40: val_accuracy did not improve from 0.90290\n",
      "40/40 - 11s - loss: 0.4449 - accuracy: 0.8406 - val_loss: 0.3114 - val_accuracy: 0.8839 - 11s/epoch - 270ms/step\n",
      "Epoch 41/80\n",
      "\n",
      "Epoch 41: val_accuracy did not improve from 0.90290\n",
      "40/40 - 11s - loss: 0.4148 - accuracy: 0.8543 - val_loss: 0.4454 - val_accuracy: 0.8560 - 11s/epoch - 273ms/step\n",
      "Epoch 42/80\n",
      "\n",
      "Epoch 42: val_accuracy did not improve from 0.90290\n",
      "40/40 - 11s - loss: 0.3981 - accuracy: 0.8570 - val_loss: 0.6521 - val_accuracy: 0.8147 - 11s/epoch - 270ms/step\n",
      "Epoch 43/80\n",
      "\n",
      "Epoch 43: val_accuracy did not improve from 0.90290\n",
      "40/40 - 11s - loss: 0.4216 - accuracy: 0.8453 - val_loss: 0.4414 - val_accuracy: 0.8237 - 11s/epoch - 285ms/step\n",
      "Epoch 44/80\n",
      "\n",
      "Epoch 44: val_accuracy did not improve from 0.90290\n",
      "40/40 - 11s - loss: 0.4311 - accuracy: 0.8492 - val_loss: 0.5909 - val_accuracy: 0.8158 - 11s/epoch - 275ms/step\n",
      "Epoch 45/80\n",
      "\n",
      "Epoch 45: val_accuracy did not improve from 0.90290\n",
      "40/40 - 11s - loss: 0.4111 - accuracy: 0.8523 - val_loss: 0.8281 - val_accuracy: 0.7288 - 11s/epoch - 278ms/step\n",
      "Epoch 46/80\n",
      "\n",
      "Epoch 46: val_accuracy did not improve from 0.90290\n",
      "40/40 - 11s - loss: 0.4062 - accuracy: 0.8520 - val_loss: 0.4166 - val_accuracy: 0.8527 - 11s/epoch - 275ms/step\n",
      "Epoch 47/80\n",
      "\n",
      "Epoch 47: val_accuracy did not improve from 0.90290\n",
      "40/40 - 11s - loss: 0.4692 - accuracy: 0.8387 - val_loss: 0.3828 - val_accuracy: 0.8627 - 11s/epoch - 270ms/step\n",
      "Epoch 48/80\n",
      "\n",
      "Epoch 48: val_accuracy did not improve from 0.90290\n",
      "40/40 - 11s - loss: 0.4357 - accuracy: 0.8418 - val_loss: 0.4745 - val_accuracy: 0.8315 - 11s/epoch - 272ms/step\n",
      "Epoch 49/80\n",
      "\n",
      "Epoch 49: val_accuracy improved from 0.90290 to 0.92411, saving model to rutan_classification_2023-09-05.hdf5\n",
      "40/40 - 11s - loss: 0.4200 - accuracy: 0.8480 - val_loss: 0.2354 - val_accuracy: 0.9241 - 11s/epoch - 273ms/step\n",
      "Epoch 50/80\n",
      "\n",
      "Epoch 50: val_accuracy did not improve from 0.92411\n",
      "40/40 - 11s - loss: 0.4248 - accuracy: 0.8461 - val_loss: 0.3143 - val_accuracy: 0.8940 - 11s/epoch - 273ms/step\n",
      "Epoch 51/80\n",
      "\n",
      "Epoch 51: val_accuracy did not improve from 0.92411\n",
      "40/40 - 11s - loss: 0.4166 - accuracy: 0.8568 - val_loss: 0.4027 - val_accuracy: 0.8371 - 11s/epoch - 273ms/step\n",
      "Epoch 52/80\n",
      "\n",
      "Epoch 52: val_accuracy did not improve from 0.92411\n",
      "40/40 - 11s - loss: 0.4062 - accuracy: 0.8547 - val_loss: 0.3006 - val_accuracy: 0.8940 - 11s/epoch - 271ms/step\n",
      "Epoch 53/80\n",
      "\n",
      "Epoch 53: val_accuracy did not improve from 0.92411\n",
      "40/40 - 11s - loss: 0.4524 - accuracy: 0.8402 - val_loss: 0.6914 - val_accuracy: 0.7567 - 11s/epoch - 271ms/step\n",
      "Epoch 54/80\n",
      "\n",
      "Epoch 54: val_accuracy did not improve from 0.92411\n",
      "40/40 - 11s - loss: 0.4245 - accuracy: 0.8516 - val_loss: 0.3724 - val_accuracy: 0.8683 - 11s/epoch - 270ms/step\n",
      "Epoch 55/80\n",
      "\n",
      "Epoch 55: val_accuracy did not improve from 0.92411\n",
      "40/40 - 11s - loss: 0.4152 - accuracy: 0.8477 - val_loss: 0.3544 - val_accuracy: 0.8638 - 11s/epoch - 270ms/step\n",
      "Epoch 56/80\n",
      "\n",
      "Epoch 56: val_accuracy did not improve from 0.92411\n",
      "40/40 - 11s - loss: 0.4085 - accuracy: 0.8551 - val_loss: 0.3216 - val_accuracy: 0.8984 - 11s/epoch - 272ms/step\n",
      "Epoch 57/80\n",
      "\n",
      "Epoch 57: val_accuracy did not improve from 0.92411\n",
      "40/40 - 11s - loss: 0.4255 - accuracy: 0.8508 - val_loss: 0.2687 - val_accuracy: 0.9118 - 11s/epoch - 275ms/step\n",
      "Epoch 58/80\n",
      "\n",
      "Epoch 58: val_accuracy did not improve from 0.92411\n",
      "40/40 - 11s - loss: 0.4608 - accuracy: 0.8324 - val_loss: 0.3832 - val_accuracy: 0.8616 - 11s/epoch - 270ms/step\n",
      "Epoch 59/80\n",
      "\n",
      "Epoch 59: val_accuracy did not improve from 0.92411\n",
      "40/40 - 11s - loss: 0.3996 - accuracy: 0.8521 - val_loss: 0.3297 - val_accuracy: 0.8817 - 11s/epoch - 269ms/step\n",
      "Epoch 60/80\n",
      "\n",
      "Epoch 60: val_accuracy did not improve from 0.92411\n",
      "40/40 - 11s - loss: 0.4057 - accuracy: 0.8594 - val_loss: 1.5380 - val_accuracy: 0.6763 - 11s/epoch - 273ms/step\n",
      "Epoch 61/80\n",
      "\n",
      "Epoch 61: val_accuracy did not improve from 0.92411\n",
      "40/40 - 11s - loss: 0.3977 - accuracy: 0.8570 - val_loss: 0.3090 - val_accuracy: 0.8962 - 11s/epoch - 273ms/step\n",
      "Epoch 62/80\n",
      "\n",
      "Epoch 62: val_accuracy did not improve from 0.92411\n",
      "40/40 - 11s - loss: 0.3819 - accuracy: 0.8706 - val_loss: 0.4649 - val_accuracy: 0.8337 - 11s/epoch - 269ms/step\n",
      "Epoch 63/80\n",
      "\n",
      "Epoch 63: val_accuracy did not improve from 0.92411\n",
      "40/40 - 11s - loss: 0.4263 - accuracy: 0.8434 - val_loss: 1.0881 - val_accuracy: 0.7243 - 11s/epoch - 272ms/step\n",
      "Epoch 64/80\n",
      "\n",
      "Epoch 64: val_accuracy did not improve from 0.92411\n",
      "40/40 - 11s - loss: 0.4177 - accuracy: 0.8520 - val_loss: 0.4624 - val_accuracy: 0.8705 - 11s/epoch - 271ms/step\n",
      "Epoch 65/80\n",
      "\n",
      "Epoch 65: val_accuracy did not improve from 0.92411\n",
      "40/40 - 11s - loss: 0.3947 - accuracy: 0.8617 - val_loss: 0.3357 - val_accuracy: 0.8705 - 11s/epoch - 273ms/step\n",
      "Epoch 66/80\n",
      "\n",
      "Epoch 66: val_accuracy did not improve from 0.92411\n",
      "40/40 - 11s - loss: 0.3829 - accuracy: 0.8627 - val_loss: 0.3727 - val_accuracy: 0.8795 - 11s/epoch - 272ms/step\n",
      "Epoch 67/80\n",
      "\n",
      "Epoch 67: val_accuracy did not improve from 0.92411\n",
      "40/40 - 11s - loss: 0.3732 - accuracy: 0.8719 - val_loss: 0.5665 - val_accuracy: 0.8404 - 11s/epoch - 271ms/step\n",
      "Epoch 68/80\n",
      "\n",
      "Epoch 68: val_accuracy did not improve from 0.92411\n",
      "40/40 - 11s - loss: 0.4233 - accuracy: 0.8496 - val_loss: 0.5634 - val_accuracy: 0.8092 - 11s/epoch - 273ms/step\n",
      "Epoch 69/80\n",
      "\n",
      "Epoch 69: val_accuracy did not improve from 0.92411\n",
      "40/40 - 11s - loss: 0.3783 - accuracy: 0.8679 - val_loss: 0.7106 - val_accuracy: 0.7690 - 11s/epoch - 270ms/step\n",
      "Epoch 70/80\n",
      "\n",
      "Epoch 70: val_accuracy improved from 0.92411 to 0.93304, saving model to rutan_classification_2023-09-05.hdf5\n",
      "40/40 - 11s - loss: 0.4068 - accuracy: 0.8668 - val_loss: 0.2307 - val_accuracy: 0.9330 - 11s/epoch - 286ms/step\n",
      "Epoch 71/80\n",
      "\n",
      "Epoch 71: val_accuracy did not improve from 0.93304\n",
      "40/40 - 11s - loss: 0.3839 - accuracy: 0.8687 - val_loss: 0.3099 - val_accuracy: 0.8795 - 11s/epoch - 266ms/step\n",
      "Epoch 72/80\n",
      "\n",
      "Epoch 72: val_accuracy did not improve from 0.93304\n",
      "40/40 - 11s - loss: 0.3864 - accuracy: 0.8637 - val_loss: 0.4939 - val_accuracy: 0.8382 - 11s/epoch - 272ms/step\n",
      "Epoch 73/80\n",
      "\n",
      "Epoch 73: val_accuracy did not improve from 0.93304\n",
      "40/40 - 11s - loss: 0.3734 - accuracy: 0.8684 - val_loss: 0.3191 - val_accuracy: 0.8839 - 11s/epoch - 275ms/step\n",
      "Epoch 74/80\n",
      "\n",
      "Epoch 74: val_accuracy did not improve from 0.93304\n",
      "40/40 - 11s - loss: 0.4114 - accuracy: 0.8543 - val_loss: 0.3649 - val_accuracy: 0.8661 - 11s/epoch - 275ms/step\n",
      "Epoch 75/80\n",
      "\n",
      "Epoch 75: val_accuracy did not improve from 0.93304\n",
      "40/40 - 11s - loss: 0.3856 - accuracy: 0.8648 - val_loss: 0.8226 - val_accuracy: 0.7623 - 11s/epoch - 275ms/step\n",
      "Epoch 76/80\n",
      "\n",
      "Epoch 76: val_accuracy did not improve from 0.93304\n",
      "40/40 - 11s - loss: 0.3702 - accuracy: 0.8676 - val_loss: 0.4422 - val_accuracy: 0.8493 - 11s/epoch - 278ms/step\n",
      "Epoch 77/80\n",
      "\n",
      "Epoch 77: val_accuracy did not improve from 0.93304\n",
      "40/40 - 11s - loss: 0.3951 - accuracy: 0.8691 - val_loss: 0.2685 - val_accuracy: 0.9062 - 11s/epoch - 270ms/step\n",
      "Epoch 78/80\n",
      "\n",
      "Epoch 78: val_accuracy did not improve from 0.93304\n",
      "40/40 - 11s - loss: 0.3877 - accuracy: 0.8691 - val_loss: 0.6709 - val_accuracy: 0.7980 - 11s/epoch - 269ms/step\n",
      "Epoch 79/80\n",
      "\n",
      "Epoch 79: val_accuracy did not improve from 0.93304\n",
      "40/40 - 11s - loss: 0.3763 - accuracy: 0.8629 - val_loss: 0.7527 - val_accuracy: 0.8058 - 11s/epoch - 270ms/step\n",
      "Epoch 80/80\n",
      "\n",
      "Epoch 80: val_accuracy did not improve from 0.93304\n",
      "40/40 - 11s - loss: 0.3611 - accuracy: 0.8660 - val_loss: 0.2913 - val_accuracy: 0.8996 - 11s/epoch - 275ms/step\n"
     ]
    }
   ],
   "source": [
    "# Entrenamos el modelo con nuestro Data Generator\n",
    "hist = model.fit(\n",
    "    # Utiliza las imágenes generadas por el Train Generator\n",
    "    trainGenerator,\n",
    "    # Utilizar los callbacks que creamos\n",
    "    callbacks = [checkpoint],\n",
    "    # Pasos por épocas igual a la cantidad de imágenes para training divido el tamaño de los batches\n",
    "    steps_per_epoch = 2600 // 64,\n",
    "    # Entrenamos por 80 épocas\n",
    "    epochs = 80,\n",
    "    # Para validación utilizamos las imágenes generadas por el Validation Generator\n",
    "    validation_data = validationGenerator,\n",
    "    # Pasos para validación igual a la cantidad de imágenes para testing divido el tamaño de los batches\n",
    "    validation_steps = 930 // 64,\n",
    "    verbose = 2,\n",
    "    # Mezclar los datos\n",
    "    shuffle = True\n",
    ")"
   ]
  },
  {
   "cell_type": "markdown",
   "metadata": {},
   "source": [
    "## Evaluación del modelo"
   ]
  },
  {
   "cell_type": "code",
   "execution_count": 18,
   "metadata": {},
   "outputs": [
    {
     "data": {
      "image/png": "[encoded data removed]",
      "text/plain": [
       "<Figure size 640x480 with 1 Axes>"
      ]
     },
     "metadata": {},
     "output_type": "display_data"
    }
   ],
   "source": [
    "plt.plot(hist.history[\"accuracy\"], label = \"Train\")\n",
    "plt.plot(hist.history[\"val_accuracy\"], label = \"Validation\")\n",
    "plt.legend()\n",
    "plt.show()"
   ]
  },
  {
   "cell_type": "code",
   "execution_count": 19,
   "metadata": {},
   "outputs": [
    {
     "name": "stdout",
     "output_type": "stream",
     "text": [
      "75/75 [==============================] - 54s 728ms/step - loss: 0.9970 - accuracy: 0.6950\n"
     ]
    },
    {
     "data": {
      "text/plain": [
       "[0.9970118999481201, 0.6949936747550964]"
      ]
     },
     "execution_count": 19,
     "metadata": {},
     "output_type": "execute_result"
    }
   ],
   "source": [
    "model.evaluate(testGenerator)"
   ]
  },
  {
   "cell_type": "code",
   "execution_count": 2,
   "metadata": {},
   "outputs": [
    {
     "name": "stdout",
     "output_type": "stream",
     "text": [
      "Model: \"sequential_2\"\n",
      "_________________________________________________________________\n",
      " Layer (type)                Output Shape              Param #   \n",
      "=================================================================\n",
      " conv2d_8 (Conv2D)           (None, 128, 128, 32)      896       \n",
      "                                                                 \n",
      " batch_normalization_8 (Batc  (None, 128, 128, 32)     128       \n",
      " hNormalization)                                                 \n",
      "                                                                 \n",
      " max_pooling2d_8 (MaxPooling  (None, 64, 64, 32)       0         \n",
      " 2D)                                                             \n",
      "                                                                 \n",
      " conv2d_9 (Conv2D)           (None, 64, 64, 64)        18496     \n",
      "                                                                 \n",
      " batch_normalization_9 (Batc  (None, 64, 64, 64)       256       \n",
      " hNormalization)                                                 \n",
      "                                                                 \n",
      " max_pooling2d_9 (MaxPooling  (None, 32, 32, 64)       0         \n",
      " 2D)                                                             \n",
      "                                                                 \n",
      " dropout_8 (Dropout)         (None, 32, 32, 64)        0         \n",
      "                                                                 \n",
      " conv2d_10 (Conv2D)          (None, 32, 32, 128)       73856     \n",
      "                                                                 \n",
      " batch_normalization_10 (Bat  (None, 32, 32, 128)      512       \n",
      " chNormalization)                                                \n",
      "                                                                 \n",
      " max_pooling2d_10 (MaxPoolin  (None, 16, 16, 128)      0         \n",
      " g2D)                                                            \n",
      "                                                                 \n",
      " dropout_9 (Dropout)         (None, 16, 16, 128)       0         \n",
      "                                                                 \n",
      " conv2d_11 (Conv2D)          (None, 16, 16, 128)       147584    \n",
      "                                                                 \n",
      " batch_normalization_11 (Bat  (None, 16, 16, 128)      512       \n",
      " chNormalization)                                                \n",
      "                                                                 \n",
      " max_pooling2d_11 (MaxPoolin  (None, 8, 8, 128)        0         \n",
      " g2D)                                                            \n",
      "                                                                 \n",
      " dropout_10 (Dropout)        (None, 8, 8, 128)         0         \n",
      "                                                                 \n",
      " flatten_2 (Flatten)         (None, 8192)              0         \n",
      "                                                                 \n",
      " dropout_11 (Dropout)        (None, 8192)              0         \n",
      "                                                                 \n",
      " dense_4 (Dense)             (None, 512)               4194816   \n",
      "                                                                 \n",
      " dense_5 (Dense)             (None, 5)                 2565      \n",
      "                                                                 \n",
      "=================================================================\n",
      "Total params: 4,439,621\n",
      "Trainable params: 4,438,917\n",
      "Non-trainable params: 704\n",
      "_________________________________________________________________\n"
     ]
    }
   ],
   "source": [
    "postModel = load_model(r\"rutan_classification_2023-09-05.hdf5\")\n",
    "postModel.summary()"
   ]
  },
  {
   "cell_type": "code",
   "execution_count": 13,
   "metadata": {},
   "outputs": [
    {
     "name": "stdout",
     "output_type": "stream",
     "text": [
      "75/75 [==============================] - 53s 697ms/step - loss: 0.2127 - accuracy: 0.9327\n"
     ]
    },
    {
     "data": {
      "text/plain": [
       "[0.21272936463356018, 0.9326882362365723]"
      ]
     },
     "execution_count": 13,
     "metadata": {},
     "output_type": "execute_result"
    }
   ],
   "source": [
    "postModel.evaluate(testGenerator)"
   ]
  },
  {
   "cell_type": "code",
   "execution_count": 33,
   "metadata": {},
   "outputs": [],
   "source": [
    "clases = [\"Pájaro\", \"Gato\", \"Perro\", \"Pez\", \"Salvaje\"]\n"
   ]
  },
  {
   "cell_type": "code",
   "execution_count": 34,
   "metadata": {},
   "outputs": [
    {
     "name": "stdout",
     "output_type": "stream",
     "text": [
      "1/1 [==============================] - 0s 15ms/step\n"
     ]
    },
    {
     "data": {
      "text/plain": [
       "'Pájaro'"
      ]
     },
     "execution_count": 34,
     "metadata": {},
     "output_type": "execute_result"
    }
   ],
   "source": [
    "imagen = load_img('bird.jpg', target_size=(128, 128))\n",
    "\n",
    "imagen = img_to_array(imagen)\n",
    "imagen = imagen.reshape((1, imagen.shape[0], imagen.shape[1], imagen.shape[2]))\n",
    "imagen /= 255.\n",
    "\n",
    "prediccion = postModel.predict(imagen)\n",
    "clases[np.argmax(prediccion)]"
   ]
  },
  {
   "cell_type": "code",
   "execution_count": 35,
   "metadata": {},
   "outputs": [
    {
     "name": "stdout",
     "output_type": "stream",
     "text": [
      "1/1 [==============================] - 0s 17ms/step\n"
     ]
    },
    {
     "data": {
      "text/plain": [
       "'Gato'"
      ]
     },
     "execution_count": 35,
     "metadata": {},
     "output_type": "execute_result"
    }
   ],
   "source": [
    "imagen = load_img('cat.jpg', target_size=(128, 128))\n",
    "\n",
    "imagen = img_to_array(imagen)\n",
    "imagen = imagen.reshape((1, imagen.shape[0], imagen.shape[1], imagen.shape[2]))\n",
    "imagen /= 255.\n",
    "\n",
    "prediccion = postModel.predict(imagen)\n",
    "clases[np.argmax(prediccion)]"
   ]
  },
  {
   "cell_type": "code",
   "execution_count": 36,
   "metadata": {},
   "outputs": [
    {
     "name": "stdout",
     "output_type": "stream",
     "text": [
      "1/1 [==============================] - 0s 16ms/step\n"
     ]
    },
    {
     "data": {
      "text/plain": [
       "'Perro'"
      ]
     },
     "execution_count": 36,
     "metadata": {},
     "output_type": "execute_result"
    }
   ],
   "source": [
    "imagen = load_img('dog.jpg', target_size=(128, 128))\n",
    "\n",
    "imagen = img_to_array(imagen)\n",
    "imagen = imagen.reshape((1, imagen.shape[0], imagen.shape[1], imagen.shape[2]))\n",
    "imagen /= 255.\n",
    "\n",
    "prediccion = postModel.predict(imagen)\n",
    "clases[np.argmax(prediccion)]"
   ]
  },
  {
   "cell_type": "code",
   "execution_count": 37,
   "metadata": {},
   "outputs": [
    {
     "name": "stdout",
     "output_type": "stream",
     "text": [
      "1/1 [==============================] - 0s 15ms/step\n"
     ]
    },
    {
     "data": {
      "text/plain": [
       "'Pez'"
      ]
     },
     "execution_count": 37,
     "metadata": {},
     "output_type": "execute_result"
    }
   ],
   "source": [
    "imagen = load_img('fish.png', target_size=(128, 128))\n",
    "\n",
    "imagen = img_to_array(imagen)\n",
    "imagen = imagen.reshape((1, imagen.shape[0], imagen.shape[1], imagen.shape[2]))\n",
    "imagen /= 255.\n",
    "\n",
    "prediccion = postModel.predict(imagen)\n",
    "clases[np.argmax(prediccion)]"
   ]
  },
  {
   "cell_type": "code",
   "execution_count": 38,
   "metadata": {},
   "outputs": [
    {
     "name": "stdout",
     "output_type": "stream",
     "text": [
      "1/1 [==============================] - 0s 17ms/step\n"
     ]
    },
    {
     "data": {
      "text/plain": [
       "'Salvaje'"
      ]
     },
     "execution_count": 38,
     "metadata": {},
     "output_type": "execute_result"
    }
   ],
   "source": [
    "imagen = load_img('wild.jpg', target_size=(128, 128))\n",
    "\n",
    "imagen = img_to_array(imagen)\n",
    "imagen = imagen.reshape((1, imagen.shape[0], imagen.shape[1], imagen.shape[2]))\n",
    "imagen /= 255.\n",
    "\n",
    "prediccion = postModel.predict(imagen)\n",
    "clases[np.argmax(prediccion)]"
   ]
  },
  {
   "cell_type": "code",
   "execution_count": null,
   "metadata": {},
   "outputs": [],
   "source": []
  }
 ],
 "metadata": {
  "kernelspec": {
   "display_name": "RutaN",
   "language": "python",
   "name": "python3"
  },
  "language_info": {
   "codemirror_mode": {
    "name": "ipython",
    "version": 3
   },
   "file_extension": ".py",
   "mimetype": "text/x-python",
   "name": "python",
   "nbconvert_exporter": "python",
   "pygments_lexer": "ipython3",
   "version": "3.9.17"
  },
  "orig_nbformat": 4
 },
 "nbformat": 4,
 "nbformat_minor": 2
}
